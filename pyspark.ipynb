{
  "nbformat": 4,
  "nbformat_minor": 0,
  "metadata": {
    "colab": {
      "provenance": []
    },
    "kernelspec": {
      "name": "python3",
      "display_name": "Python 3"
    },
    "language_info": {
      "name": "python"
    }
  },
  "cells": [
    {
      "cell_type": "markdown",
      "source": [
        "# Установка Spark"
      ],
      "metadata": {
        "id": "dqbiHSW5Az6N"
      }
    },
    {
      "cell_type": "code",
      "source": [
        "!apt-get install openjdk-8-jdk-headless -qq > /dev/null\n",
        "!wget -q http://archive.apache.org/dist/spark/spark-3.4.1/spark-3.4.1-bin-hadoop3.tgz\n",
        "!tar xf spark-3.4.1-bin-hadoop3.tgz\n",
        "!pip install -q findspark"
      ],
      "metadata": {
        "id": "O41A4j2KA3JU"
      },
      "execution_count": null,
      "outputs": []
    },
    {
      "cell_type": "markdown",
      "source": [
        "Установка переменных среды"
      ],
      "metadata": {
        "id": "D2z_ctP9BOEP"
      }
    },
    {
      "cell_type": "code",
      "source": [
        "import os\n",
        "os.environ[\"JAVA_HOME\"] = \"/usr/lib/jvm/java-8-openjdk-amd64\"\n",
        "os.environ[\"SPARK_HOME\"] = \"/content/spark-3.4.1-bin-hadoop3\""
      ],
      "metadata": {
        "id": "aYZw0oKBBQMI"
      },
      "execution_count": null,
      "outputs": []
    },
    {
      "cell_type": "markdown",
      "source": [
        "### Подключение необходимых библиотек"
      ],
      "metadata": {
        "id": "uEHq6X5LA82i"
      }
    },
    {
      "cell_type": "code",
      "execution_count": null,
      "metadata": {
        "colab": {
          "base_uri": "https://localhost:8080/",
          "height": 221
        },
        "id": "kZ6-lMDQAhCz",
        "outputId": "0f6d3bd1-14a3-43e8-afc7-7fcb0c0a547d"
      },
      "outputs": [
        {
          "output_type": "execute_result",
          "data": {
            "text/plain": [
              "<pyspark.sql.session.SparkSession at 0x7dc5b01e7130>"
            ],
            "text/html": [
              "\n",
              "            <div>\n",
              "                <p><b>SparkSession - in-memory</b></p>\n",
              "                \n",
              "        <div>\n",
              "            <p><b>SparkContext</b></p>\n",
              "\n",
              "            <p><a href=\"http://1d65a58c4b96:4040\">Spark UI</a></p>\n",
              "\n",
              "            <dl>\n",
              "              <dt>Version</dt>\n",
              "                <dd><code>v3.4.1</code></dd>\n",
              "              <dt>Master</dt>\n",
              "                <dd><code>local[*]</code></dd>\n",
              "              <dt>AppName</dt>\n",
              "                <dd><code>pyspark-shell</code></dd>\n",
              "            </dl>\n",
              "        </div>\n",
              "        \n",
              "            </div>\n",
              "        "
            ]
          },
          "metadata": {},
          "execution_count": 129
        }
      ],
      "source": [
        "import findspark\n",
        "findspark.init()\n",
        "from pyspark.sql import SparkSession\n",
        "spark = SparkSession.builder.master(\"local[*]\").getOrCreate()\n",
        "spark.conf.set(\"spark.sql.repl.eagerEval.enabled\", True)\n",
        "spark"
      ]
    },
    {
      "cell_type": "markdown",
      "source": [
        "Загружаем [датасет](https://www.kaggle.com/datasets/asaniczka/amazon-uk-products-dataset-2023) с кагла"
      ],
      "metadata": {
        "id": "zXqEtcpQCY__"
      }
    },
    {
      "cell_type": "code",
      "source": [
        "! pip install -q kaggle\n",
        "from google.colab import files\n",
        "files.upload()"
      ],
      "metadata": {
        "id": "Aoqtsp80CfvV"
      },
      "execution_count": null,
      "outputs": []
    },
    {
      "cell_type": "code",
      "source": [
        "! mkdir ~/.kaggle\n",
        "! cp kaggle.json ~/.kaggle/\n",
        "! chmod 600 ~/.kaggle/kaggle.json\n",
        "! kaggle datasets download asaniczka/amazon-uk-products-dataset-2023\n",
        "! unzip -q /content/amazon-uk-products-dataset-2023.zip -d /content/Dataset\n",
        "!rm /content/amazon-uk-products-dataset-2023.zip"
      ],
      "metadata": {
        "id": "CIxpuntmCp4-"
      },
      "execution_count": null,
      "outputs": []
    },
    {
      "cell_type": "code",
      "source": [
        "from pyspark.sql import SparkSession\n",
        "from pyspark.sql.functions import regexp_replace, col\n",
        "def replace_double_quotes_with_empty(cell):\n",
        "    return regexp_replace(cell, '\"', '')"
      ],
      "metadata": {
        "id": "CX4TtnjGNpk-"
      },
      "execution_count": null,
      "outputs": []
    },
    {
      "cell_type": "code",
      "source": [
        "df = spark.read.csv('Dataset/products.csv', header=True, sep=',\"')\n",
        "\n",
        "for column_name in df.columns:\n",
        "    df = df.withColumn(column_name, replace_double_quotes_with_empty(col(column_name)))\n",
        "\n",
        "expressions = [col(column).alias(column.replace('\"', '')) for column in df.columns]\n",
        "\n",
        "df = df.select(expressions)\n",
        "df.limit(5)"
      ],
      "metadata": {
        "colab": {
          "base_uri": "https://localhost:8080/",
          "height": 161
        },
        "id": "eAjNz78kF6sK",
        "outputId": "9d5f57a5-6edb-498e-d1cb-3b13040d975c"
      },
      "execution_count": null,
      "outputs": [
        {
          "output_type": "execute_result",
          "data": {
            "text/plain": [
              "+----------+--------------------+--------------------+--------------------+-----+-------+-----+------------+-----------------+--------------+\n",
              "|      asin|               title|              imgUrl|          productURL|stars|reviews|price|isBestSeller|boughtInLastMonth|  categoryName|\n",
              "+----------+--------------------+--------------------+--------------------+-----+-------+-----+------------+-----------------+--------------+\n",
              "|B09B96TG33|Echo Dot (5th gen...|https://m.media-a...|https://www.amazo...|  4.7|  15308|21.99|       False|                0|Hi-Fi Speakers|\n",
              "|B01HTH3C8S|Anker Soundcore m...|https://m.media-a...|https://www.amazo...|  4.7|  98099|23.99|        True|                0|Hi-Fi Speakers|\n",
              "|B09B8YWXDF|Echo Dot (5th gen...|https://m.media-a...|https://www.amazo...|  4.7|  15308|21.99|       False|                0|Hi-Fi Speakers|\n",
              "|B09B8T5VGV|Echo Dot with clo...|https://m.media-a...|https://www.amazo...|  4.7|   7205|31.99|       False|                0|Hi-Fi Speakers|\n",
              "|B09WX6QD65|Introducing Echo ...|https://m.media-a...|https://www.amazo...|  4.6|   1881|17.99|       False|                0|Hi-Fi Speakers|\n",
              "+----------+--------------------+--------------------+--------------------+-----+-------+-----+------------+-----------------+--------------+"
            ],
            "text/html": [
              "<table border='1'>\n",
              "<tr><th>asin</th><th>title</th><th>imgUrl</th><th>productURL</th><th>stars</th><th>reviews</th><th>price</th><th>isBestSeller</th><th>boughtInLastMonth</th><th>categoryName</th></tr>\n",
              "<tr><td>B09B96TG33</td><td>Echo Dot (5th gen...</td><td>https://m.media-a...</td><td>https://www.amazo...</td><td>4.7</td><td>15308</td><td>21.99</td><td>False</td><td>0</td><td>Hi-Fi Speakers</td></tr>\n",
              "<tr><td>B01HTH3C8S</td><td>Anker Soundcore m...</td><td>https://m.media-a...</td><td>https://www.amazo...</td><td>4.7</td><td>98099</td><td>23.99</td><td>True</td><td>0</td><td>Hi-Fi Speakers</td></tr>\n",
              "<tr><td>B09B8YWXDF</td><td>Echo Dot (5th gen...</td><td>https://m.media-a...</td><td>https://www.amazo...</td><td>4.7</td><td>15308</td><td>21.99</td><td>False</td><td>0</td><td>Hi-Fi Speakers</td></tr>\n",
              "<tr><td>B09B8T5VGV</td><td>Echo Dot with clo...</td><td>https://m.media-a...</td><td>https://www.amazo...</td><td>4.7</td><td>7205</td><td>31.99</td><td>False</td><td>0</td><td>Hi-Fi Speakers</td></tr>\n",
              "<tr><td>B09WX6QD65</td><td>Introducing Echo ...</td><td>https://m.media-a...</td><td>https://www.amazo...</td><td>4.6</td><td>1881</td><td>17.99</td><td>False</td><td>0</td><td>Hi-Fi Speakers</td></tr>\n",
              "</table>\n"
            ]
          },
          "metadata": {},
          "execution_count": 132
        }
      ]
    },
    {
      "cell_type": "code",
      "source": [
        "# Преобразование типов данных\n",
        "df = df.withColumn(\"stars\", df[\"stars\"].cast(\"float\"))\n",
        "df = df.withColumn(\"reviews\", df[\"reviews\"].cast(\"int\"))\n",
        "df = df.withColumn(\"price\", df[\"price\"].cast(\"float\"))\n",
        "df = df.withColumn(\"boughtInLastMonth\", df[\"boughtInLastMonth\"].cast(\"int\"))\n",
        "df = df.withColumn(\"isBestSeller\", df[\"isBestSeller\"].cast(\"boolean\"))\n",
        "df.dtypes"
      ],
      "metadata": {
        "colab": {
          "base_uri": "https://localhost:8080/"
        },
        "id": "Fup9foqORwrm",
        "outputId": "08f0c0ea-4159-4f91-87f2-8cc703a14081"
      },
      "execution_count": null,
      "outputs": [
        {
          "output_type": "execute_result",
          "data": {
            "text/plain": [
              "[('asin', 'string'),\n",
              " ('title', 'string'),\n",
              " ('imgUrl', 'string'),\n",
              " ('productURL', 'string'),\n",
              " ('stars', 'float'),\n",
              " ('reviews', 'int'),\n",
              " ('price', 'float'),\n",
              " ('isBestSeller', 'boolean'),\n",
              " ('boughtInLastMonth', 'int'),\n",
              " ('categoryName', 'string')]"
            ]
          },
          "metadata": {},
          "execution_count": 133
        }
      ]
    },
    {
      "cell_type": "markdown",
      "source": [
        "# Spark запросы"
      ],
      "metadata": {
        "id": "W1EIzKLHITXE"
      }
    },
    {
      "cell_type": "markdown",
      "source": [
        "### 1. Топ 10 самых дорогих категорий, в которой товары купили хотя бы 1 раз за последний месяц и звезд больше 4"
      ],
      "metadata": {
        "id": "RDUJESCZQh_m"
      }
    },
    {
      "cell_type": "code",
      "source": [
        "filtered_df = df.filter((col(\"boughtInLastMonth\") >= 1) & (col(\"stars\") > 4))\n",
        "result = filtered_df.groupBy(\"categoryName\").agg(round(avg(col(\"price\")), 2).alias(\"avgPrice\"))\n",
        "sorted_result = result.orderBy(col(\"avgPrice\").desc())\n",
        "sorted_result.show(10, truncate=False)"
      ],
      "metadata": {
        "colab": {
          "base_uri": "https://localhost:8080/"
        },
        "id": "Zee8_mijIWYF",
        "outputId": "ddc2f54c-a295-44c9-afa6-a968f0f2b23e"
      },
      "execution_count": null,
      "outputs": [
        {
          "output_type": "stream",
          "name": "stdout",
          "text": [
            "+----------------------------+--------+\n",
            "|categoryName                |avgPrice|\n",
            "+----------------------------+--------+\n",
            "|Mobile Phones & Smartphones |189.25  |\n",
            "|3D Printers                 |176.66  |\n",
            "|PA & Stage                  |159.99  |\n",
            "|Coffee & Espresso Machines  |124.76  |\n",
            "|Mowers & Outdoor Power Tools|100.6   |\n",
            "|Home Office Furniture       |88.48   |\n",
            "|Karaoke Equipment           |86.12   |\n",
            "|Bedroom Furniture           |82.78   |\n",
            "|Home Audio Record Players   |79.99   |\n",
            "|Bedding Collections         |79.99   |\n",
            "+----------------------------+--------+\n",
            "only showing top 10 rows\n",
            "\n"
          ]
        }
      ]
    },
    {
      "cell_type": "markdown",
      "source": [
        "### 2. Топ категорий по количеству бестселлеров"
      ],
      "metadata": {
        "id": "nUxQgonLS5A_"
      }
    },
    {
      "cell_type": "code",
      "source": [
        "from pyspark.sql.functions import count\n",
        "bestsellers_count = df.filter(col(\"isBestSeller\")).groupBy(\"categoryName\").agg(count(\"*\").alias(\"BestSellersCount\")).orderBy(col(\"BestSellersCount\").desc())\n",
        "bestsellers_count.show(truncate=False)"
      ],
      "metadata": {
        "colab": {
          "base_uri": "https://localhost:8080/"
        },
        "id": "rwoDIXQkS_cG",
        "outputId": "1fe7d982-6312-4e8b-e2eb-3bd2eb4d17cb"
      },
      "execution_count": null,
      "outputs": [
        {
          "output_type": "stream",
          "name": "stdout",
          "text": [
            "+---------------------------------+----------------+\n",
            "|categoryName                     |BestSellersCount|\n",
            "+---------------------------------+----------------+\n",
            "|Health & Personal Care           |485             |\n",
            "|Grocery                          |313             |\n",
            "|Sports & Outdoors                |300             |\n",
            "|Pet Supplies                     |283             |\n",
            "|Power & Hand Tools               |243             |\n",
            "|Baby                             |188             |\n",
            "|Women                            |182             |\n",
            "|Arts & Crafts                    |163             |\n",
            "|Men                              |147             |\n",
            "|Hardware                         |146             |\n",
            "|Storage & Organisation           |142             |\n",
            "|Large Appliances                 |139             |\n",
            "|PC & Video Games                 |136             |\n",
            "|Customers' Most Loved            |108             |\n",
            "|Office Supplies                  |107             |\n",
            "|Building Supplies                |93              |\n",
            "|Agricultural Equipment & Supplies|90              |\n",
            "|Boys                             |87              |\n",
            "|Car & Motorbike                  |86              |\n",
            "|Girls                            |77              |\n",
            "+---------------------------------+----------------+\n",
            "only showing top 20 rows\n",
            "\n"
          ]
        }
      ]
    },
    {
      "cell_type": "markdown",
      "source": [
        "### 3. Вывести yникальные категории"
      ],
      "metadata": {
        "id": "lozKiQ9oTZiY"
      }
    },
    {
      "cell_type": "code",
      "source": [
        "distinct_categories = df.select(\"categoryName\").distinct().show(truncate=False)"
      ],
      "metadata": {
        "colab": {
          "base_uri": "https://localhost:8080/"
        },
        "id": "2UrAWRihTZCk",
        "outputId": "b2dad01f-9e3b-40e1-c80a-15bda43a9d8d"
      },
      "execution_count": null,
      "outputs": [
        {
          "output_type": "stream",
          "name": "stdout",
          "text": [
            "+---------------------------+\n",
            "|categoryName               |\n",
            "+---------------------------+\n",
            "|Bird & Wildlife Care       |\n",
            "|CD, Disc & Tape Players    |\n",
            "|USB Gadgets                |\n",
            "|200                        |\n",
            "|Skiing Poles               |\n",
            "|Motorbike Batteries        |\n",
            "|Storage & Home Organisation|\n",
            "|Projectors                 |\n",
            "|Graphics Cards             |\n",
            "|3D Printers                |\n",
            "|Motorbike Accessories      |\n",
            "|Motherboards               |\n",
            "|Wind Instruments           |\n",
            "|0                          |\n",
            "|PC Gaming Accessories      |\n",
            "|False                      |\n",
            "|Handmade Gifts             |\n",
            "|Pet Supplies               |\n",
            "|Living Room Furniture      |\n",
            "|Kids' Art & Craft Supplies |\n",
            "+---------------------------+\n",
            "only showing top 20 rows\n",
            "\n"
          ]
        }
      ]
    },
    {
      "cell_type": "markdown",
      "source": [
        "### 4. Продукты с самой высокой оценкой (количеством звезд), у которых отзывов больше среднего"
      ],
      "metadata": {
        "id": "RbhDmerOUR7F"
      }
    },
    {
      "cell_type": "code",
      "source": [
        "average_reviews = df.select(avg(col(\"reviews\"))).collect()[0][0]\n",
        "\n",
        "top_rated_products = df.filter((col(\"stars\") == df.selectExpr(\"max(stars)\").collect()[0][0]) & (col(\"reviews\") > average_reviews))\n",
        "top_rated_products.select(\"title\").show(truncate=False)"
      ],
      "metadata": {
        "colab": {
          "base_uri": "https://localhost:8080/"
        },
        "id": "T7U_Y0KyUP8l",
        "outputId": "0aa214c5-365c-4310-b94b-1278cdabccf6"
      },
      "execution_count": null,
      "outputs": [
        {
          "output_type": "stream",
          "name": "stdout",
          "text": [
            "+-----------------------------------------------------------------------------------------------------------------------------------------------------------------------+\n",
            "|title                                                                                                                                                                  |\n",
            "+-----------------------------------------------------------------------------------------------------------------------------------------------------------------------+\n",
            "|PocBuds Wireless Earbuds, Bluetooth 5.3 Headphones with ENC Mic, 2023 Earpods 40H Deep Base Wireless Earphones IP5 Waterproof, LED Display USB-C Charging Case Ear buds|\n",
            "+-----------------------------------------------------------------------------------------------------------------------------------------------------------------------+\n",
            "\n"
          ]
        }
      ]
    },
    {
      "cell_type": "markdown",
      "source": [
        "### 5. Названия продуктов категории Pet Supplies и количество покупок за последний месяц, у определенных товаров\n",
        "- звезд > 4,5\n",
        "- отзывов > 100\n",
        "- цена больше 15\n",
        "- лучший продавец\n",
        "- за последний месяц куплено > 1000."
      ],
      "metadata": {
        "id": "qE5IgcqGZShY"
      }
    },
    {
      "cell_type": "code",
      "source": [
        "result = df.filter(\n",
        "    (col(\"stars\") > 4.5) &\n",
        "    (col(\"reviews\") > 100) &\n",
        "    (col(\"price\") > 15) &\n",
        "    (col(\"isBestSeller\")) &\n",
        "    (col(\"boughtInLastMonth\") > 1000) &\n",
        "    (col(\"categoryName\") == \"Pet Supplies\")\n",
        ")\n",
        "\n",
        "result = result.orderBy(col(\"stars\").desc(), col(\"reviews\").desc())\n",
        "result.select('title', 'boughtInLastMonth').limit(10)"
      ],
      "metadata": {
        "colab": {
          "base_uri": "https://localhost:8080/",
          "height": 185
        },
        "id": "TMJTwkHEZD26",
        "outputId": "9f7e1682-cb89-491d-8268-9ab8335f7f4c"
      },
      "execution_count": null,
      "outputs": [
        {
          "output_type": "execute_result",
          "data": {
            "text/plain": [
              "+--------------------+-----------------+\n",
              "|               title|boughtInLastMonth|\n",
              "+--------------------+-----------------+\n",
              "|Purina ONE Adult ...|             9000|\n",
              "|Sheba Fine Flakes...|            10000|\n",
              "|FELIWAY Classic 3...|             5000|\n",
              "|YuMOVE Senior Dog...|            10000|\n",
              "|James Wellbeloved...|             2000|\n",
              "|ICF - CLX Wipes -...|             3000|\n",
              "+--------------------+-----------------+"
            ],
            "text/html": [
              "<table border='1'>\n",
              "<tr><th>title</th><th>boughtInLastMonth</th></tr>\n",
              "<tr><td>Purina ONE Adult ...</td><td>9000</td></tr>\n",
              "<tr><td>Sheba Fine Flakes...</td><td>10000</td></tr>\n",
              "<tr><td>FELIWAY Classic 3...</td><td>5000</td></tr>\n",
              "<tr><td>YuMOVE Senior Dog...</td><td>10000</td></tr>\n",
              "<tr><td>James Wellbeloved...</td><td>2000</td></tr>\n",
              "<tr><td>ICF - CLX Wipes -...</td><td>3000</td></tr>\n",
              "</table>\n"
            ]
          },
          "metadata": {},
          "execution_count": 138
        }
      ]
    }
  ]
}